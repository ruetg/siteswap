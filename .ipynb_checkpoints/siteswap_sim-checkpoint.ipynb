{
 "cells": [
  {
   "cell_type": "markdown",
   "metadata": {},
   "source": [
    "## Simple siteswap editor for Jupyter to visualize and keep track of patterns"
   ]
  },
  {
   "cell_type": "code",
   "execution_count": 4,
   "metadata": {},
   "outputs": [],
   "source": [
    "%matplotlib inline"
   ]
  },
  {
   "cell_type": "code",
   "execution_count": 398,
   "metadata": {},
   "outputs": [],
   "source": [
    "import numpy as np\n",
    "import matplotlib.pyplot as plt\n",
    "\n",
    "from matplotlib import animation, rc\n",
    "from IPython.display import HTML\n",
    "import numpy as np"
   ]
  },
  {
   "cell_type": "code",
   "execution_count": 432,
   "metadata": {},
   "outputs": [
    {
     "data": {
      "image/png": "[encoded data removed]",
      "text/plain": [
       "<Figure size 144x288 with 1 Axes>"
      ]
     },
     "metadata": {
      "needs_background": "light"
     },
     "output_type": "display_data"
    }
   ],
   "source": [
    "#def display_siteswap( code , vanilla = True ):\n",
    "\n",
    "fig,ax = plt.subplots(figsize=(2,4))\n",
    "ax.set_ylim([0,5])\n",
    "ax.set_xlim([-1.5,1.5])\n",
    "code = '97531'\n",
    "vanilla = True\n",
    "g = 9.81\n",
    "\n",
    "scatter, = ax.plot([], [],'.',markersize='50')\n",
    "catches = 0\n",
    "maxy =0\n",
    "nball = np.mean([float(i) for i in code])\n",
    "if nball == int(nball):\n",
    "    nball = int(nball)\n",
    "if vanilla:\n",
    "    hs = [(g * float(n)**2  / 100) for n in code]\n",
    "    dt = 1/5\n",
    "    trajectories = []\n",
    "    t = np.arange(0,100,dt)\n",
    "    for c in range(len(hs)):\n",
    "        cm = (len(hs) - c ) * int(1 / dt) -1 # Delay by cm beats (we start animation with last ball thrown, ie steady state)\n",
    "        \n",
    "        h = hs[c] - g * t ** 2 / 100\n",
    "        h = np.delete(h,np.where(h<0))\n",
    "        h = np.flip(h)\n",
    "        h = np.append(h,np.flip(h))\n",
    "        if max(h) > maxy:\n",
    "            maxy = max(h)\n",
    "        \n",
    "        \n",
    "        trajectories.append(h)\n",
    "    paths = [np.zeros((2*(i+1)-1)*int(1/dt)) for i in range(nball)]\n",
    "    cs = np.int32(np.zeros(len(paths)))\n",
    "    def init():\n",
    "        scatter.set_data([],[])\n",
    "        return(scatter,)\n",
    "    xs = np.zeros(len(cs))\n",
    "    sign = np.zeros(len(cs))\n",
    "    siteswaps = np.zeros(len(cs))\n",
    "    for c in range(len(sign)):\n",
    "        sign[c] = 1 - np.mod(c,2) * 2\n",
    "        siteswaps[c] = int(code[np.mod(c,len(trajectories))])\n",
    "    def animate(i):\n",
    "        global catches\n",
    "        \n",
    "        for c in range(len(cs)):\n",
    "            cs[c] += 1\n",
    "            if cs[c]  == len(paths[c]):\n",
    "                cs[c] = int(0)\n",
    "            if cs[c] == 0:\n",
    "                paths[c] = trajectories[catches]\n",
    "                siteswaps[c] = int(code[catches])\n",
    "                if np.mod(siteswaps[c],2) == 1:\n",
    "                    sign[c] *= -1\n",
    "                catches += 1\n",
    "                if catches == len(trajectories):\n",
    "                    catches = 0\n",
    "            xs[c] = (siteswaps[c] - dt * cs[c]) / siteswaps[c] * sign[c]\n",
    "            if np.mod(siteswaps[c],2) == 0:\n",
    "                xs[c] = sign[c]\n",
    "        scatter.set_data(xs,[paths[c][cs[c]] for c in range(len(cs))])\n",
    "        ax.set_ylim([0,maxy+1])\n",
    "        return(scatter,)\n",
    "    anim = animation.FuncAnimation(fig, animate, init_func=init,\n",
    "                               frames=200)\n",
    "\n",
    "        "
   ]
  },
  {
   "cell_type": "code",
   "execution_count": null,
   "metadata": {},
   "outputs": [],
   "source": [
    "HTML(anim.to_jshtml(fps=15))"
   ]
  }
 ],
 "metadata": {
  "kernelspec": {
   "display_name": "Python 3",
   "language": "python",
   "name": "python3"
  },
  "language_info": {
   "codemirror_mode": {
    "name": "ipython",
    "version": 3
   },
   "file_extension": ".py",
   "mimetype": "text/x-python",
   "name": "python",
   "nbconvert_exporter": "python",
   "pygments_lexer": "ipython3",
   "version": "3.7.7"
  }
 },
 "nbformat": 4,
 "nbformat_minor": 4
}
